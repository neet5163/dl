{
 "cells": [
  {
   "cell_type": "code",
   "execution_count": 1,
   "metadata": {},
   "outputs": [],
   "source": [
    "# -*- coding: utf-8 -*-\n",
    "import os\n",
    "import glob\n",
    "import csv\n",
    "import pandas as pd"
   ]
  },
  {
   "cell_type": "code",
   "execution_count": 2,
   "metadata": {},
   "outputs": [],
   "source": [
    "# フォルダ中のパスを取得\n",
    "DATA_PATH = r\"Z:\\Share\\dl\\day\"\n",
    "All_Files = glob.glob(DATA_PATH + '\\*.csv')"
   ]
  },
  {
   "cell_type": "code",
   "execution_count": 3,
   "metadata": {},
   "outputs": [],
   "source": [
    "#マージ\n",
    "list = []\n",
    "for file in All_Files:\n",
    "    list.append(pd.read_csv(file))\n",
    "df = pd.concat(list, sort=False)"
   ]
  },
  {
   "cell_type": "code",
   "execution_count": 4,
   "metadata": {},
   "outputs": [],
   "source": [
    "#発売日をdatetime型に変換\n",
    "df['発売日'] = pd.to_datetime(df['発売日'])\n",
    "\n",
    "#ソート\n",
    "df = df.sort_values('発売日')\n",
    "# print(df['発売日'].dtype)\n",
    "\n",
    "#いらん行削除\n",
    "col_date = df.columns.get_loc('発売日')\n",
    "df = df.drop(df.columns[0:col_date], axis='columns')\n",
    "\n",
    "#インデックス振り直し\n",
    "df = df.reset_index()\n",
    "\n",
    "#いらん行削除\n",
    "col_date = df.columns.get_loc('発売日')\n",
    "df = df.drop(df.columns[0:col_date], axis='columns')\n",
    "\n",
    "#インデックス振り直し\n",
    "df = df.reset_index()"
   ]
  },
  {
   "cell_type": "code",
   "execution_count": 5,
   "metadata": {},
   "outputs": [
    {
     "output_type": "execute_result",
     "data": {
      "text/plain": "         index        発売日   曜日     ジャンル                   タイトル  \\\n0            0 2000-01-05  Wed  CG・イラスト           犬汁 SUPER DRY   \n1            1 2000-01-06  Thu  CG・イラスト            Night Slave   \n2            2 2000-01-06  Thu  CG・イラスト            PLUS-Ver1.0   \n3            3 2000-01-08  Sat      マンガ              いちごみるく第3号   \n4            4 2000-01-08  Sat      マンガ             SNOW WHITE   \n...        ...        ...  ...      ...                    ...   \n216949  216949 2020-12-31  Thu  CG・イラスト  ペ○ちゃんが古本屋で痴漢されちゃうぞCG集   \n216950  216950 2020-12-31  Thu  アドベンチャー       人生通行止め10周年記念ボックス   \n216951  216951 2020-12-31  Thu      マンガ    HAMMER_HEAD総集編Vol.1   \n216952  216952 2020-12-31  Thu       動画               ヌードパークVo   \n216953  216953 2020-12-31  Thu       音楽               和知内恵(裏白)   \n\n                                                      URL         サークル    価格  \\\n0       https://www.dlsite.com/maniax/work/=/product_i...       宇宙地下秘密   770   \n1       https://www.dlsite.com/maniax/work/=/product_i...         Eliz  1210   \n2       https://www.dlsite.com/maniax/work/=/product_i...         Eliz  1210   \n3       https://www.dlsite.com/maniax/work/=/product_i...     artifact   330   \n4       https://www.dlsite.com/maniax/work/=/product_i...     artifact   330   \n...                                                   ...          ...   ...   \n216949  https://www.dlsite.com/maniax/work/=/product_i...     きぐるめほかんこ   330   \n216950  https://www.dlsite.com/maniax/work/=/product_i...       人生通行止め  4950   \n216951  https://www.dlsite.com/maniax/work/=/product_i...  HAMMER_HEAD  1210   \n216952  https://www.dlsite.com/maniax/work/=/product_i...      セイギノヤカタ   616   \n216953  https://www.dlsite.com/maniax/work/=/product_i...          イイロ   110   \n\n       割引[円] 割引%   専売                                             説明文  \\\n0         70  10  非専売       暗黒犬将軍がお贈りするCG集第5段、K○F99のキャラがあんなことやこんなことを!   \n1        110  10  非専売      今回はメイドCG集です。陵辱系のCGもありますが、ぽわぽわ(?)したCGもあります。   \n2        110  10  非専売  さわやか系のCGも入ってます。陵辱系のCGも入ってます。服が破けたりしているCGが多いです。   \n3         30  10  非専売   「メイド特集」をはじめとして、東鳩・あかりHマンガや下○生小特集と1冊でおいしい構成です。   \n4         30  10  非専売            ○NEのみさき&茜本。しんみりするけどHはハード!　一緒に感じて下さい。   \n...      ...  ..  ...                                             ...   \n216949    30  10   専売         邪神ちゃんド○ップキックのペ○ちゃんが古本屋でえっちなことされるミニCG集です   \n216950   450  10   専売     サークル人生通行止め活動10周年として、これまで制作した作品を詰め合わせたパックです。   \n216951   110  10  非専売                    サークル「HAMMER_HEAD」の総集編Vol.1です   \n216952    56  10  非専売        全裸になって遊ぶことができるヌードパーク。 エッチな遊具を心行くまで楽しみます!   \n216953    10  10  非専売                                    初〇ミクを使った曲です。   \n\n                                                  性癖   販売数  評価数 スター レビュー  \n0                                                NaN  1187  342  40    2  \n1                                                NaN   249   53  40    0  \n2                                                NaN    40    8  35    0  \n3                                            制服_コスプレ   161   31  35    0  \n4                                           学校/学園_制服   180   44  35    0  \n...                                              ...   ...  ...  ..  ...  \n216949                       ぶっかけ_中出し_痴漢_羞恥/恥辱_少女_ロリ    36    0   0    0  \n216950  女性視点_おっぱい_寝取られ_中出し_学生_ヤリチン/プレイボーイ_ボクっ娘_巨乳/爆乳    28    8  50    1  \n216951              中出し_妊娠/孕ませ_陵辱_フェラチオ_調教_異種姦_イラマチオ    27    0   0    0  \n216952           おもらし_中出し_くすぐり_放尿/おしっこ_触手_機械姦_異種姦_ロリ    66    9  45    0  \n216953                              感動_癒し_催眠音声_評論_耽美     0    0   0    0  \n\n[216954 rows x 17 columns]",
      "text/html": "<div>\n<style scoped>\n    .dataframe tbody tr th:only-of-type {\n        vertical-align: middle;\n    }\n\n    .dataframe tbody tr th {\n        vertical-align: top;\n    }\n\n    .dataframe thead th {\n        text-align: right;\n    }\n</style>\n<table border=\"1\" class=\"dataframe\">\n  <thead>\n    <tr style=\"text-align: right;\">\n      <th></th>\n      <th>index</th>\n      <th>発売日</th>\n      <th>曜日</th>\n      <th>ジャンル</th>\n      <th>タイトル</th>\n      <th>URL</th>\n      <th>サークル</th>\n      <th>価格</th>\n      <th>割引[円]</th>\n      <th>割引%</th>\n      <th>専売</th>\n      <th>説明文</th>\n      <th>性癖</th>\n      <th>販売数</th>\n      <th>評価数</th>\n      <th>スター</th>\n      <th>レビュー</th>\n    </tr>\n  </thead>\n  <tbody>\n    <tr>\n      <th>0</th>\n      <td>0</td>\n      <td>2000-01-05</td>\n      <td>Wed</td>\n      <td>CG・イラスト</td>\n      <td>犬汁 SUPER DRY</td>\n      <td>https://www.dlsite.com/maniax/work/=/product_i...</td>\n      <td>宇宙地下秘密</td>\n      <td>770</td>\n      <td>70</td>\n      <td>10</td>\n      <td>非専売</td>\n      <td>暗黒犬将軍がお贈りするCG集第5段、K○F99のキャラがあんなことやこんなことを!</td>\n      <td>NaN</td>\n      <td>1187</td>\n      <td>342</td>\n      <td>40</td>\n      <td>2</td>\n    </tr>\n    <tr>\n      <th>1</th>\n      <td>1</td>\n      <td>2000-01-06</td>\n      <td>Thu</td>\n      <td>CG・イラスト</td>\n      <td>Night Slave</td>\n      <td>https://www.dlsite.com/maniax/work/=/product_i...</td>\n      <td>Eliz</td>\n      <td>1210</td>\n      <td>110</td>\n      <td>10</td>\n      <td>非専売</td>\n      <td>今回はメイドCG集です。陵辱系のCGもありますが、ぽわぽわ(?)したCGもあります。</td>\n      <td>NaN</td>\n      <td>249</td>\n      <td>53</td>\n      <td>40</td>\n      <td>0</td>\n    </tr>\n    <tr>\n      <th>2</th>\n      <td>2</td>\n      <td>2000-01-06</td>\n      <td>Thu</td>\n      <td>CG・イラスト</td>\n      <td>PLUS-Ver1.0</td>\n      <td>https://www.dlsite.com/maniax/work/=/product_i...</td>\n      <td>Eliz</td>\n      <td>1210</td>\n      <td>110</td>\n      <td>10</td>\n      <td>非専売</td>\n      <td>さわやか系のCGも入ってます。陵辱系のCGも入ってます。服が破けたりしているCGが多いです。</td>\n      <td>NaN</td>\n      <td>40</td>\n      <td>8</td>\n      <td>35</td>\n      <td>0</td>\n    </tr>\n    <tr>\n      <th>3</th>\n      <td>3</td>\n      <td>2000-01-08</td>\n      <td>Sat</td>\n      <td>マンガ</td>\n      <td>いちごみるく第3号</td>\n      <td>https://www.dlsite.com/maniax/work/=/product_i...</td>\n      <td>artifact</td>\n      <td>330</td>\n      <td>30</td>\n      <td>10</td>\n      <td>非専売</td>\n      <td>「メイド特集」をはじめとして、東鳩・あかりHマンガや下○生小特集と1冊でおいしい構成です。</td>\n      <td>制服_コスプレ</td>\n      <td>161</td>\n      <td>31</td>\n      <td>35</td>\n      <td>0</td>\n    </tr>\n    <tr>\n      <th>4</th>\n      <td>4</td>\n      <td>2000-01-08</td>\n      <td>Sat</td>\n      <td>マンガ</td>\n      <td>SNOW WHITE</td>\n      <td>https://www.dlsite.com/maniax/work/=/product_i...</td>\n      <td>artifact</td>\n      <td>330</td>\n      <td>30</td>\n      <td>10</td>\n      <td>非専売</td>\n      <td>○NEのみさき&amp;茜本。しんみりするけどHはハード!　一緒に感じて下さい。</td>\n      <td>学校/学園_制服</td>\n      <td>180</td>\n      <td>44</td>\n      <td>35</td>\n      <td>0</td>\n    </tr>\n    <tr>\n      <th>...</th>\n      <td>...</td>\n      <td>...</td>\n      <td>...</td>\n      <td>...</td>\n      <td>...</td>\n      <td>...</td>\n      <td>...</td>\n      <td>...</td>\n      <td>...</td>\n      <td>...</td>\n      <td>...</td>\n      <td>...</td>\n      <td>...</td>\n      <td>...</td>\n      <td>...</td>\n      <td>...</td>\n      <td>...</td>\n    </tr>\n    <tr>\n      <th>216949</th>\n      <td>216949</td>\n      <td>2020-12-31</td>\n      <td>Thu</td>\n      <td>CG・イラスト</td>\n      <td>ペ○ちゃんが古本屋で痴漢されちゃうぞCG集</td>\n      <td>https://www.dlsite.com/maniax/work/=/product_i...</td>\n      <td>きぐるめほかんこ</td>\n      <td>330</td>\n      <td>30</td>\n      <td>10</td>\n      <td>専売</td>\n      <td>邪神ちゃんド○ップキックのペ○ちゃんが古本屋でえっちなことされるミニCG集です</td>\n      <td>ぶっかけ_中出し_痴漢_羞恥/恥辱_少女_ロリ</td>\n      <td>36</td>\n      <td>0</td>\n      <td>0</td>\n      <td>0</td>\n    </tr>\n    <tr>\n      <th>216950</th>\n      <td>216950</td>\n      <td>2020-12-31</td>\n      <td>Thu</td>\n      <td>アドベンチャー</td>\n      <td>人生通行止め10周年記念ボックス</td>\n      <td>https://www.dlsite.com/maniax/work/=/product_i...</td>\n      <td>人生通行止め</td>\n      <td>4950</td>\n      <td>450</td>\n      <td>10</td>\n      <td>専売</td>\n      <td>サークル人生通行止め活動10周年として、これまで制作した作品を詰め合わせたパックです。</td>\n      <td>女性視点_おっぱい_寝取られ_中出し_学生_ヤリチン/プレイボーイ_ボクっ娘_巨乳/爆乳</td>\n      <td>28</td>\n      <td>8</td>\n      <td>50</td>\n      <td>1</td>\n    </tr>\n    <tr>\n      <th>216951</th>\n      <td>216951</td>\n      <td>2020-12-31</td>\n      <td>Thu</td>\n      <td>マンガ</td>\n      <td>HAMMER_HEAD総集編Vol.1</td>\n      <td>https://www.dlsite.com/maniax/work/=/product_i...</td>\n      <td>HAMMER_HEAD</td>\n      <td>1210</td>\n      <td>110</td>\n      <td>10</td>\n      <td>非専売</td>\n      <td>サークル「HAMMER_HEAD」の総集編Vol.1です</td>\n      <td>中出し_妊娠/孕ませ_陵辱_フェラチオ_調教_異種姦_イラマチオ</td>\n      <td>27</td>\n      <td>0</td>\n      <td>0</td>\n      <td>0</td>\n    </tr>\n    <tr>\n      <th>216952</th>\n      <td>216952</td>\n      <td>2020-12-31</td>\n      <td>Thu</td>\n      <td>動画</td>\n      <td>ヌードパークVo</td>\n      <td>https://www.dlsite.com/maniax/work/=/product_i...</td>\n      <td>セイギノヤカタ</td>\n      <td>616</td>\n      <td>56</td>\n      <td>10</td>\n      <td>非専売</td>\n      <td>全裸になって遊ぶことができるヌードパーク。 エッチな遊具を心行くまで楽しみます!</td>\n      <td>おもらし_中出し_くすぐり_放尿/おしっこ_触手_機械姦_異種姦_ロリ</td>\n      <td>66</td>\n      <td>9</td>\n      <td>45</td>\n      <td>0</td>\n    </tr>\n    <tr>\n      <th>216953</th>\n      <td>216953</td>\n      <td>2020-12-31</td>\n      <td>Thu</td>\n      <td>音楽</td>\n      <td>和知内恵(裏白)</td>\n      <td>https://www.dlsite.com/maniax/work/=/product_i...</td>\n      <td>イイロ</td>\n      <td>110</td>\n      <td>10</td>\n      <td>10</td>\n      <td>非専売</td>\n      <td>初〇ミクを使った曲です。</td>\n      <td>感動_癒し_催眠音声_評論_耽美</td>\n      <td>0</td>\n      <td>0</td>\n      <td>0</td>\n      <td>0</td>\n    </tr>\n  </tbody>\n</table>\n<p>216954 rows × 17 columns</p>\n</div>"
     },
     "metadata": {},
     "execution_count": 5
    }
   ],
   "source": [
    "df"
   ]
  },
  {
   "cell_type": "code",
   "execution_count": 6,
   "metadata": {},
   "outputs": [],
   "source": [
    "#出力\n",
    "df.to_csv('Z:\\Share\\dl\\merged.csv')"
   ]
  }
 ],
 "metadata": {
  "kernelspec": {
   "display_name": "Python 3",
   "language": "python",
   "name": "python3"
  },
  "language_info": {
   "codemirror_mode": {
    "name": "ipython",
    "version": 3
   },
   "file_extension": ".py",
   "mimetype": "text/x-python",
   "name": "python",
   "nbconvert_exporter": "python",
   "pygments_lexer": "ipython3",
   "version": "3.8.3"
  }
 },
 "nbformat": 4,
 "nbformat_minor": 4
}